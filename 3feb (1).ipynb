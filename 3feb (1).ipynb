{
 "cells": [
  {
   "cell_type": "markdown",
   "id": "fab70f6b-72a0-48c0-8638-c058ecbb7aaf",
   "metadata": {},
   "source": [
    "Answer 1:\n",
    "\n",
    "def keyword is used to create a function\n"
   ]
  },
  {
   "cell_type": "code",
   "execution_count": 1,
   "id": "2aac1647-3def-48a5-a791-ae7e90a340f6",
   "metadata": {},
   "outputs": [
    {
     "data": {
      "text/plain": [
       "[1, 3, 5, 7, 9, 11, 13, 15, 17, 19, 21, 23, 25]"
      ]
     },
     "execution_count": 1,
     "metadata": {},
     "output_type": "execute_result"
    }
   ],
   "source": [
    "def odd():\n",
    "    l=[]\n",
    "    for i in range(1,26):\n",
    "        if(i%2!=0):\n",
    "            l.append(i)\n",
    "    return l\n",
    "\n",
    "odd()"
   ]
  },
  {
   "cell_type": "markdown",
   "id": "72df0d78-da75-48ad-b578-2db18f8fdd41",
   "metadata": {},
   "source": [
    "Answer 2:\n",
    "\n",
    "*args and **kwargs is used for handling unknown number of arguments to be passed in function call\n",
    "\n",
    "*args storres data in tuple form\n",
    "**kwargs stores data in dictionary format\n",
    "\n"
   ]
  },
  {
   "cell_type": "code",
   "execution_count": 3,
   "id": "22aea721-81ab-46f2-8f9a-eda50519b58a",
   "metadata": {},
   "outputs": [
    {
     "name": "stdout",
     "output_type": "stream",
     "text": [
      "average = 5.0\n"
     ]
    }
   ],
   "source": [
    "def per(*hi):\n",
    "    sum=0\n",
    "    for i in hi:\n",
    "        sum+=i\n",
    "    avg=sum/len(hi)\n",
    "    print('average =',avg)\n",
    "    \n",
    "per(1,2,3,4,5,6,7,8,9)"
   ]
  },
  {
   "cell_type": "code",
   "execution_count": 5,
   "id": "44b28887-31f5-43e3-992c-ee43f5b69e8a",
   "metadata": {},
   "outputs": [
    {
     "name": "stdout",
     "output_type": "stream",
     "text": [
      "name= math mark= 90\n",
      "name= english mark= 80\n",
      "name= comp mark= 99.9\n",
      "name= sst mark= 98\n"
     ]
    }
   ],
   "source": [
    "def per(**hii):\n",
    "    sum =0\n",
    "    \n",
    "    for i in hii:\n",
    "        \n",
    "        sub=i\n",
    "        mark=hii[sub]\n",
    "        \n",
    "        print(\"name=\",sub,\"mark=\",mark)\n",
    "        \n",
    "per(math=90,english=80,comp=99.9,sst=98)"
   ]
  },
  {
   "cell_type": "markdown",
   "id": "71667730-8604-41e6-bd1d-ce987ed0dd8d",
   "metadata": {},
   "source": [
    "answer 3:\n",
    "\n",
    "An iterator is an object that contains a countable number of values.\n",
    "An iterator is an object that can be iterated upon, meaning that you can traverse through all the values.\n",
    "\n",
    "To create an object/class as an iterator you have to implement the methods __iter__() and __next__() to your object.\n",
    "The __iter__() method acts similar, you can do operations (initializing etc.), but must always return the iterator object itself.\n",
    "\n",
    "The __next__() method also allows you to do operations, and must return the next item in the sequence.\n"
   ]
  },
  {
   "cell_type": "code",
   "execution_count": 9,
   "id": "68be0551-307c-4fd7-ae9b-c88bd5e570f1",
   "metadata": {},
   "outputs": [
    {
     "name": "stdout",
     "output_type": "stream",
     "text": [
      "2\n",
      "4\n",
      "6\n",
      "8\n",
      "10\n"
     ]
    }
   ],
   "source": [
    "A=[2, 4, 6, 8, 10, 12, 14, 16,18, 20]\n",
    "c=0\n",
    "for i in A:\n",
    "    if(c!=5):\n",
    "        print(i)\n",
    "        c+=1\n",
    "    else:\n",
    "        break"
   ]
  },
  {
   "cell_type": "markdown",
   "id": "1c600a7b-cb43-436b-a579-5489f6dffbc4",
   "metadata": {},
   "source": [
    "answer 4:\n",
    "\n",
    "\n",
    "Generator functions provide a powerful alternative: they allow you to define an iterative algorithm by writing a single function whose execution is not continuous.\n",
    "\n",
    "The yield keyword in Python controls the flow of a generator function. This is similar to a return statement used for returning values in Python\n"
   ]
  },
  {
   "cell_type": "code",
   "execution_count": 12,
   "id": "5dc9d41d-a0e9-411b-8002-0df6c8232abc",
   "metadata": {},
   "outputs": [
    {
     "name": "stdout",
     "output_type": "stream",
     "text": [
      "0\n",
      "1\n",
      "1\n",
      "2\n",
      "3\n",
      "5\n",
      "8\n",
      "13\n",
      "21\n",
      "34\n"
     ]
    }
   ],
   "source": [
    "def fib(n):\n",
    "    a,b=0,1\n",
    "    for i in range(n):\n",
    "        yield (a)\n",
    "        a,b=b,a+b\n",
    "fib(10)\n",
    "\n",
    "for i in fib(10):\n",
    "    print(i)"
   ]
  },
  {
   "cell_type": "code",
   "execution_count": 27,
   "id": "8701bd2d-4023-44d8-846f-2e8f5b15eb0e",
   "metadata": {},
   "outputs": [
    {
     "name": "stdout",
     "output_type": "stream",
     "text": [
      "2\n",
      "3\n",
      "5\n",
      "7\n",
      "11\n"
     ]
    }
   ],
   "source": [
    "#ANSWER 5:\n",
    "\n",
    "def isprime(num):\n",
    "    for i in range(2,num):\n",
    "        if(num%i==0):\n",
    "            return False\n",
    "    return True\n",
    "def prime(n):\n",
    "    if(n<1000):\n",
    "        for i in range(2,n+1):\n",
    "            if isprime(i):\n",
    "                yield (i)\n",
    "        \n",
    "            \n",
    "    \n",
    "    \n",
    "    \n",
    "\n",
    "x=prime(999)\n",
    "for i in range(5):\n",
    "    print(next(x))\n",
    "\n",
    "\n",
    "\n",
    "\n"
   ]
  },
  {
   "cell_type": "code",
   "execution_count": null,
   "id": "b9566278-8982-422f-b7dc-eba5b763dab6",
   "metadata": {},
   "outputs": [],
   "source": []
  }
 ],
 "metadata": {
  "kernelspec": {
   "display_name": "Python 3 (ipykernel)",
   "language": "python",
   "name": "python3"
  },
  "language_info": {
   "codemirror_mode": {
    "name": "ipython",
    "version": 3
   },
   "file_extension": ".py",
   "mimetype": "text/x-python",
   "name": "python",
   "nbconvert_exporter": "python",
   "pygments_lexer": "ipython3",
   "version": "3.10.8"
  }
 },
 "nbformat": 4,
 "nbformat_minor": 5
}
