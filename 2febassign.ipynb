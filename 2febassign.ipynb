{
 "cells": [
  {
   "cell_type": "markdown",
   "id": "10d43de9-bcb1-4672-a58e-bc7d25856afa",
   "metadata": {},
   "source": [
    "ANSWER 1:\n",
    "\n",
    "Tuples are a data type that belongs to the sequence data type category. They're similar to lists in Python, but they have the property of being immutable. We can't change the elements of a tuple, but we can execute a variety of actions on them such as count, index, type, etc.\n",
    "\n",
    "Yes, tuple is immutable."
   ]
  },
  {
   "cell_type": "markdown",
   "id": "5a566b32-7b21-4dc9-bb75-68305e4fd2e4",
   "metadata": {},
   "source": [
    "ANSWER 2:\n",
    "\n",
    "The two method for tuple are:\n",
    "index method and count method\n",
    "\n",
    "The count() method of Tuple returns the number of times the given element appears in the tuple.\n",
    "\n",
    "The Index() method returns the first occurrence of the given element from the tuple."
   ]
  },
  {
   "cell_type": "code",
   "execution_count": 1,
   "id": "4a560cc1-952a-46e9-ad34-9e6074014f78",
   "metadata": {},
   "outputs": [
    {
     "name": "stdout",
     "output_type": "stream",
     "text": [
      "4\n"
     ]
    }
   ],
   "source": [
    "#count method\n",
    "\n",
    "a=(1,2,2,2,2,3,4,5,6)\n",
    "print(a.count(2))"
   ]
  },
  {
   "cell_type": "code",
   "execution_count": 3,
   "id": "99ab1964-2bbe-43a2-bea6-7ec12c9d1029",
   "metadata": {},
   "outputs": [
    {
     "name": "stdout",
     "output_type": "stream",
     "text": [
      "1\n"
     ]
    }
   ],
   "source": [
    "#Index method\n",
    "\n",
    "print(a.index(2))"
   ]
  },
  {
   "cell_type": "markdown",
   "id": "8fb5151d-676d-4159-a8a1-80bd1cba3a17",
   "metadata": {},
   "source": [
    "As tuple is immutable so it has only two methods which donot update  or assign to tuple."
   ]
  },
  {
   "cell_type": "markdown",
   "id": "9d199147-d522-4c80-aa2c-a6ebf05b04eb",
   "metadata": {},
   "source": [
    "ANSWER 3:\n",
    "\n",
    "The Set datatypes in python do not allow duplicate items"
   ]
  },
  {
   "cell_type": "code",
   "execution_count": 4,
   "id": "9774f66f-b6a0-4963-b3de-102c9097c135",
   "metadata": {},
   "outputs": [
    {
     "name": "stdout",
     "output_type": "stream",
     "text": [
      "{1, 2, 3, 4}\n"
     ]
    }
   ],
   "source": [
    "List = [1, 1, 1, 2, 1, 3, 1, 4, 2, 1, 2, 2, 2, 3, 2, 4, 3, 1, 3, 2, 3, 3, 3, 4, 4, 1, 4, 2, 4, 3, 4, 4]\n",
    "\n",
    "s={i for i in List}\n",
    "print(s)"
   ]
  },
  {
   "cell_type": "markdown",
   "id": "ec4906fd-48aa-43fe-96be-de5872d5882d",
   "metadata": {},
   "source": [
    "ANSWER 4:\n",
    "\n",
    "The update() method updates the original set by adding items from all the specified sets, with no duplicates.\n",
    "\n",
    "You can specify as many sets as you want, just separate each set with a comma.\n",
    "\n",
    "\n",
    "In set theory, the union of two or more sets is the set which contains all the elements ( distinct ) present in all the sets\n"
   ]
  },
  {
   "cell_type": "code",
   "execution_count": 5,
   "id": "c7134c5e-f07c-49a0-90c7-f6c9f2c91ad5",
   "metadata": {},
   "outputs": [
    {
     "name": "stdout",
     "output_type": "stream",
     "text": [
      "{'yellow', 'green', 'blue', 'red', 'orange'}\n"
     ]
    }
   ],
   "source": [
    "#update function\n",
    "A = {'red', 'green', 'blue'}\n",
    "B = {'yellow', 'red', 'orange'}\n",
    "\n",
    "A.update(B)\n",
    "print(A)"
   ]
  },
  {
   "cell_type": "code",
   "execution_count": 7,
   "id": "9552524f-8050-456c-99e3-82df9fb48770",
   "metadata": {},
   "outputs": [
    {
     "name": "stdout",
     "output_type": "stream",
     "text": [
      "{1, 2, 3, 4, 5}\n"
     ]
    }
   ],
   "source": [
    "#union method\n",
    "\n",
    "s = {1, 2, 3, 4}\n",
    "t = {3, 4, 5}\n",
    "print(s.union(t))"
   ]
  },
  {
   "cell_type": "markdown",
   "id": "dbc3f35e-dfe7-4629-a213-dbafa5e4cdb0",
   "metadata": {},
   "source": [
    "ANSWER 5:\n",
    "\n",
    "A dictionary in Python is a collection of key-value pairs. The dictionary keys must be unique. The dictionary value may be of any type. In this blog post, we'll explore the dictionary in Python and learn how to use it.\n",
    "\n",
    "It Is Unordered way of collection of items.\n"
   ]
  },
  {
   "cell_type": "code",
   "execution_count": 11,
   "id": "512bebcb-77f5-49cb-a370-1fd9873f823b",
   "metadata": {},
   "outputs": [
    {
     "name": "stdout",
     "output_type": "stream",
     "text": [
      "{1: 1, 2: 16, 3: 81, 4: 256, 5: 625, 6: 1296, 7: 2401, 8: 4096, 9: 6561, 10: 10000, 11: 14641, 12: 20736, 13: 28561, 14: 38416, 15: 50625, 16: 65536, 17: 83521, 18: 104976, 19: 130321, 20: 160000, 21: 194481}\n"
     ]
    }
   ],
   "source": [
    "d={i:i**4 for i in range(1,22)}\n",
    "print(d)"
   ]
  },
  {
   "cell_type": "markdown",
   "id": "3df6a348-b947-46c9-a9dc-3d53da71add7",
   "metadata": {},
   "source": [
    "ANSWER 6:\n",
    "Yes, we can create a nested dictionary."
   ]
  },
  {
   "cell_type": "code",
   "execution_count": 15,
   "id": "154b3272-313d-4cdf-a124-c9e5372b1685",
   "metadata": {},
   "outputs": [
    {
     "name": "stdout",
     "output_type": "stream",
     "text": [
      "dict_keys(['name', 'g'])\n"
     ]
    }
   ],
   "source": [
    "d={'name':'vgf','g':{'m':3,'b':4}}\n",
    "\n",
    "print(d.keys())"
   ]
  },
  {
   "cell_type": "code",
   "execution_count": 18,
   "id": "3cab09b7-d0f7-4347-be32-ba6ede181dcc",
   "metadata": {},
   "outputs": [
    {
     "name": "stdout",
     "output_type": "stream",
     "text": [
      "{'language': 'Python', 'course': 'Data Science Masters', 'Topics': ['Python', 'Machine Learning', 'Deep Learning']}\n"
     ]
    }
   ],
   "source": [
    "#ANSWER 7:\n",
    "\n",
    "dict1 = {'language' : 'Python', 'course': 'Data Science Masters'}\n",
    "dict1.setdefault('Topics',['Python', 'Machine Learning', 'Deep Learning'])\n",
    "\n",
    "print(dict1)"
   ]
  },
  {
   "cell_type": "markdown",
   "id": "3c632654-1925-4362-b17f-f79f6a1d5535",
   "metadata": {},
   "source": [
    "ANSWER 8:\n",
    "\n",
    "The three view objects in dictionaries: \n",
    "\n",
    "keys\n",
    "values\n",
    "items\n"
   ]
  },
  {
   "cell_type": "code",
   "execution_count": 20,
   "id": "15aa3116-86c6-4302-86bf-06475fdecebe",
   "metadata": {},
   "outputs": [
    {
     "name": "stdout",
     "output_type": "stream",
     "text": [
      "dict_keys(['Sport', 'Teams'])\n",
      "dict_values(['Cricket', ['India', 'Australia', 'England', 'South Africa', 'Sri Lanka', 'New Zealand']])\n",
      "dict_items([('Sport', 'Cricket'), ('Teams', ['India', 'Australia', 'England', 'South Africa', 'Sri Lanka', 'New Zealand'])])\n"
     ]
    }
   ],
   "source": [
    "#ANSWER 8:\n",
    "\n",
    "dict2 = {'Sport': 'Cricket' , 'Teams': ['India', 'Australia', 'England', 'South Africa', 'Sri Lanka', 'New Zealand']}\n",
    "print(dict2.keys())\n",
    "print(dict2.values())\n",
    "print(dict2.items())\n"
   ]
  }
 ],
 "metadata": {
  "kernelspec": {
   "display_name": "Python 3 (ipykernel)",
   "language": "python",
   "name": "python3"
  },
  "language_info": {
   "codemirror_mode": {
    "name": "ipython",
    "version": 3
   },
   "file_extension": ".py",
   "mimetype": "text/x-python",
   "name": "python",
   "nbconvert_exporter": "python",
   "pygments_lexer": "ipython3",
   "version": "3.10.8"
  }
 },
 "nbformat": 4,
 "nbformat_minor": 5
}
