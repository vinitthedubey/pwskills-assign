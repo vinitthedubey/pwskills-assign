{
 "cells": [
  {
   "cell_type": "markdown",
   "id": "dbbaf7fc-8c97-482e-a3ee-5bd432cdc080",
   "metadata": {},
   "source": [
    "ANSWER 1:\n",
    "\n",
    "A class is a blueprint which defines properties and behaviour of similar objects or entities. Each object is an instance of a class which has those properties and behaviors associated with them.\n",
    "\n",
    "When classes are defined, no memory is allocated to them as these classes are merely a concept or user-defined data type. However, when we create objects of these classes, memory is allocated in the heap.\n",
    "\n",
    "A class contains the properties and behaviour for a set of objects, many objects can be formed using a class.\n",
    "\n",
    "An object is a class instance that allows programmers to use variables and methods from inside the class."
   ]
  },
  {
   "cell_type": "code",
   "execution_count": 1,
   "id": "389d0096-65d6-4f97-bb1a-e76098f69e79",
   "metadata": {},
   "outputs": [
    {
     "name": "stdout",
     "output_type": "stream",
     "text": [
      "hi\n"
     ]
    }
   ],
   "source": [
    "class to:\n",
    "    def __init__(sd):\n",
    "        print(\"hi\")\n",
    "\n",
    "r=to()"
   ]
  },
  {
   "cell_type": "markdown",
   "id": "30558c19-a8f5-409a-8ac6-73c4d005789e",
   "metadata": {},
   "source": [
    "ANswer2\n",
    "\n",
    "The four pillars of OOPs:\n",
    "\n",
    "Abstraction\n",
    "Encapsulation\n",
    "Inheritance\n",
    "Polymorphism"
   ]
  },
  {
   "cell_type": "markdown",
   "id": "72c5278a-5f16-4c4d-b0fb-e367c48e07b3",
   "metadata": {},
   "source": [
    "ANSWER 3:\n",
    "\n",
    "The __init__() function is an inbuilt function which help in creating constructor for a class in python"
   ]
  },
  {
   "cell_type": "code",
   "execution_count": 3,
   "id": "ca8f0435-dda4-4db0-94e5-1952c05e5832",
   "metadata": {},
   "outputs": [
    {
     "name": "stdout",
     "output_type": "stream",
     "text": [
      "constructor called\n"
     ]
    }
   ],
   "source": [
    "class Test:\n",
    "    def __init__(self):\n",
    "        print(\"constructor called\")\n",
    "        \n",
    "t=Test()"
   ]
  },
  {
   "cell_type": "markdown",
   "id": "f1576767-7693-4bb1-9650-70360aa1e344",
   "metadata": {},
   "source": [
    "Answer 4:\n",
    "    \n",
    "In object-oriented programming, whenever we define methods for a class, we use self as the first parameter in each case it is not neccesary to give self as a name it can be any other also as pointer or reference."
   ]
  },
  {
   "cell_type": "markdown",
   "id": "da5795e8-6204-4d7d-8d37-df07b4a7427a",
   "metadata": {},
   "source": [
    "ANSWER 5:\n",
    "\n",
    "Inheritance is a feature or a process in which, new classes are created from the existing classes. The new class created is called “derived class” or “child class” and the existing class is known as the “base class” or “parent class”. The derived class now is said to be inherited from the base class.\n",
    "\n",
    "1.single inheritance\n",
    "2.multilevel inheritance\n",
    "3.multiple inheritance\n",
    "4.hierarchical inheritance\n",
    "5.hybrid inheritance"
   ]
  },
  {
   "cell_type": "code",
   "execution_count": 4,
   "id": "07d1c756-35ba-4d14-8bc6-eb2209ec7777",
   "metadata": {},
   "outputs": [
    {
     "name": "stdout",
     "output_type": "stream",
     "text": [
      "child\n"
     ]
    }
   ],
   "source": [
    "#single\n",
    "\n",
    "class parent:\n",
    "    def __init__(self):\n",
    "        print(\"parent\")\n",
    "    \n",
    "class child(parent):\n",
    "    def __init__(self):\n",
    "        print(\"child\")\n",
    "\n",
    "c=child()"
   ]
  },
  {
   "cell_type": "code",
   "execution_count": 5,
   "id": "8b25ffef-d6c7-4c04-8078-4834bf23b541",
   "metadata": {},
   "outputs": [
    {
     "name": "stdout",
     "output_type": "stream",
     "text": [
      "child\n"
     ]
    }
   ],
   "source": [
    "#multilevel\n",
    "\n",
    "class parent:\n",
    "    def __init__(self):\n",
    "        print(\"parent\")\n",
    "class intermediate(parent):\n",
    "    def __init__(self):\n",
    "        print(\"intermediate\")\n",
    "\n",
    "class child(intermediate):\n",
    "    def __init__(self):\n",
    "        print(\"child\")\n",
    "\n",
    "c=child()"
   ]
  },
  {
   "cell_type": "code",
   "execution_count": 6,
   "id": "d5055c33-9fa7-45e5-91d6-b0137a44568b",
   "metadata": {},
   "outputs": [
    {
     "name": "stdout",
     "output_type": "stream",
     "text": [
      "child\n"
     ]
    }
   ],
   "source": [
    "#multiple\n",
    "\n",
    "class parent:\n",
    "    def __init__(self):\n",
    "        print(\"parent\")\n",
    "class parent2:\n",
    "    def __init__(self):\n",
    "        print(\"intermediate\")\n",
    "\n",
    "class child(parent,parent2):\n",
    "    def __init__(self):\n",
    "        print(\"child\")\n",
    "\n",
    "c=child()"
   ]
  },
  {
   "cell_type": "code",
   "execution_count": null,
   "id": "53c18685-709b-4a21-ad40-234cf88994d0",
   "metadata": {},
   "outputs": [],
   "source": [
    "#hierarchical\n",
    "\n",
    "class parent:\n",
    "    def __init__(self):\n",
    "        print(\"parent\")\n",
    "class intermediate(parent):\n",
    "    def __init__(self):\n",
    "        print(\"intermediate\")\n",
    "\n",
    "class child():\n",
    "    def __init__(self):\n",
    "        print(\"child\")\n",
    "\n",
    "c=child()"
   ]
  }
 ],
 "metadata": {
  "kernelspec": {
   "display_name": "Python 3 (ipykernel)",
   "language": "python",
   "name": "python3"
  },
  "language_info": {
   "codemirror_mode": {
    "name": "ipython",
    "version": 3
   },
   "file_extension": ".py",
   "mimetype": "text/x-python",
   "name": "python",
   "nbconvert_exporter": "python",
   "pygments_lexer": "ipython3",
   "version": "3.10.8"
  }
 },
 "nbformat": 4,
 "nbformat_minor": 5
}
