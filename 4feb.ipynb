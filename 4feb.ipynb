{
 "cells": [
  {
   "cell_type": "code",
   "execution_count": 12,
   "id": "feaa7acb-469a-4bd4-8ce9-9f39fc79c242",
   "metadata": {},
   "outputs": [],
   "source": [
    "#ANSWER 1:\n",
    "\n",
    "l=[('Sachin Tendulkar', 34357), ('Ricky Ponting', 27483), ('Jack Kallis', 25534), ('Virat Kohli', 24936)]\n"
   ]
  },
  {
   "cell_type": "code",
   "execution_count": 19,
   "id": "c4ce3e55-c242-4ebb-95e0-17341a9fcb40",
   "metadata": {},
   "outputs": [],
   "source": [
    "l.sort(key=lambda x: x[1])"
   ]
  },
  {
   "cell_type": "code",
   "execution_count": 15,
   "id": "5c5d029e-5205-4c04-80b6-3538f36448e1",
   "metadata": {},
   "outputs": [
    {
     "name": "stdout",
     "output_type": "stream",
     "text": [
      "[('Jack Kallis', 25534), ('Ricky Ponting', 27483), ('Sachin Tendulkar', 34357), ('Virat Kohli', 24936)]\n"
     ]
    }
   ],
   "source": [
    "print(l)"
   ]
  },
  {
   "cell_type": "code",
   "execution_count": 20,
   "id": "7496fb8d-689c-4641-933a-51a8310533df",
   "metadata": {},
   "outputs": [],
   "source": [
    "#ANSWER 2:\n",
    "l1=[1, 2, 3, 4, 5, 6, 7, 8, 9, 10]"
   ]
  },
  {
   "cell_type": "code",
   "execution_count": 32,
   "id": "3df70497-50db-4ca8-9de4-b233587f2b31",
   "metadata": {},
   "outputs": [],
   "source": [
    "d=map(lambda x: x**2,l1)"
   ]
  },
  {
   "cell_type": "code",
   "execution_count": 33,
   "id": "0c0757d3-e738-4aca-9724-06f51e01f33d",
   "metadata": {},
   "outputs": [
    {
     "name": "stdout",
     "output_type": "stream",
     "text": [
      "1 4 9 16 25 36 49 64 81 100 "
     ]
    }
   ],
   "source": [
    "for i in d:\n",
    "    print(i,end=\" \")"
   ]
  },
  {
   "cell_type": "code",
   "execution_count": 57,
   "id": "d542f799-8703-407b-af46-5fe749161f66",
   "metadata": {},
   "outputs": [],
   "source": [
    "#ANSWER 3:\n",
    "l2=[1, 2, 3, 4, 5, 6, 7, 8, 9, 10]\n",
    "\n"
   ]
  },
  {
   "cell_type": "code",
   "execution_count": 58,
   "id": "2774a870-2772-42c4-98ff-7f1ecb17fd39",
   "metadata": {},
   "outputs": [],
   "source": [
    "f=map(lambda x: str(x),l2)"
   ]
  },
  {
   "cell_type": "code",
   "execution_count": 59,
   "id": "4cd85b48-e728-4ec6-ab3f-c656c7c02883",
   "metadata": {},
   "outputs": [
    {
     "name": "stdout",
     "output_type": "stream",
     "text": [
      "('1', '2', '3', '4', '5', '6', '7', '8', '9', '10')\n"
     ]
    }
   ],
   "source": [
    "print(tuple(f))"
   ]
  },
  {
   "cell_type": "code",
   "execution_count": 61,
   "id": "ba5c9075-7a90-41cf-93a7-7a85bde1323f",
   "metadata": {},
   "outputs": [],
   "source": [
    "#ANSWER 4:\n",
    "\n",
    "l4=[i for i in range(1,26)]"
   ]
  },
  {
   "cell_type": "code",
   "execution_count": 63,
   "id": "ace21587-60e5-4881-9461-339ceb4b5aea",
   "metadata": {},
   "outputs": [],
   "source": [
    "from functools import reduce\n",
    "\n",
    "c=reduce(lambda x,y:x*y,l4)"
   ]
  },
  {
   "cell_type": "code",
   "execution_count": 64,
   "id": "17989ee9-3ce3-400a-be81-6526f297787e",
   "metadata": {},
   "outputs": [
    {
     "name": "stdout",
     "output_type": "stream",
     "text": [
      "15511210043330985984000000\n"
     ]
    }
   ],
   "source": [
    "print(c)"
   ]
  },
  {
   "cell_type": "code",
   "execution_count": 65,
   "id": "db1d2787-153a-44ba-8846-0557309fea1f",
   "metadata": {},
   "outputs": [],
   "source": [
    "#ANSWER 5:\n",
    "\n",
    "l5=[2, 3, 6, 9, 27, 60, 90, 120, 55, 46]"
   ]
  },
  {
   "cell_type": "code",
   "execution_count": 76,
   "id": "a7ef3004-48d6-4c15-9e6d-da430154c753",
   "metadata": {},
   "outputs": [],
   "source": [
    "g=filter(lambda x: x if x%2==0 and x%3==0 else 0,l5)"
   ]
  },
  {
   "cell_type": "code",
   "execution_count": 78,
   "id": "30baf8c8-3668-49ec-9270-d60b60ad86ff",
   "metadata": {},
   "outputs": [
    {
     "name": "stdout",
     "output_type": "stream",
     "text": [
      "[]\n"
     ]
    }
   ],
   "source": [
    "print(list(g))"
   ]
  },
  {
   "cell_type": "code",
   "execution_count": 79,
   "id": "8a6a350f-fe03-4d34-8624-abddf2a924dd",
   "metadata": {},
   "outputs": [],
   "source": [
    "#ANSWER 6:\n",
    "l6=['python', 'php', 'aba', 'radar', 'level']\n"
   ]
  },
  {
   "cell_type": "code",
   "execution_count": 80,
   "id": "77e1f884-fa70-45b2-ac58-74deb0432e00",
   "metadata": {},
   "outputs": [],
   "source": [
    "q=filter(lambda x: x if x[::] == x[::-1] else 0,l6)"
   ]
  },
  {
   "cell_type": "code",
   "execution_count": null,
   "id": "9de2d433-acaf-4ee6-93b7-8fd2d85e6281",
   "metadata": {},
   "outputs": [],
   "source": [
    "print(list(q))"
   ]
  }
 ],
 "metadata": {
  "kernelspec": {
   "display_name": "Python 3 (ipykernel)",
   "language": "python",
   "name": "python3"
  },
  "language_info": {
   "codemirror_mode": {
    "name": "ipython",
    "version": 3
   },
   "file_extension": ".py",
   "mimetype": "text/x-python",
   "name": "python",
   "nbconvert_exporter": "python",
   "pygments_lexer": "ipython3",
   "version": "3.10.8"
  }
 },
 "nbformat": 4,
 "nbformat_minor": 5
}
